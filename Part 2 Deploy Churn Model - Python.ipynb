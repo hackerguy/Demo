{
    "metadata": {
        "language_info": {
            "version": "2.7.11", 
            "nbconvert_exporter": "python", 
            "file_extension": ".py", 
            "mimetype": "text/x-python", 
            "codemirror_mode": {
                "version": 2, 
                "name": "ipython"
            }, 
            "pygments_lexer": "ipython2", 
            "name": "python"
        }, 
        "kernelspec": {
            "display_name": "Python 2 with Spark 2.1", 
            "language": "python", 
            "name": "python2-spark21"
        }
    }, 
    "cells": [
        {
            "metadata": {}, 
            "cell_type": "markdown", 
            "source": "<img src=\"http://milepro.com/wp-content/uploads/2014/01/Travel-Credit-Cards-1024x606.jpg\" style=\"width:200px; float: left; padding-right: 10px\"/>\n<h2 style=\"font-face: verdana; font-size: 32px;\">Predict credit card customer churn<br>with IBM Watson Machine Learning</h2>\n<h3 style=\"font-face: verdana; font-size: 16px;\">Part 2: Deploy Churn Model</h3>"
        }, 
        {
            "metadata": {}, 
            "cell_type": "markdown", 
            "source": "\n\n\n### 1. Load the data into a dataframe ##\n-------------------------------------\n<p>In this section you will load the data as an Apache\u00ae Spark DataFrame and perform a basic exploration.</p>\n<p>Load the data to the Spark DataFrame by using wget to upload the data to gpfs and then read method.</p>"
        }, 
        {
            "metadata": {
                "collapsed": true
            }, 
            "cell_type": "code", 
            "outputs": [], 
            "execution_count": 1, 
            "source": "from pyspark.ml.classification import LogisticRegression\nfrom pyspark.ml.regression import LinearRegression\nfrom pyspark.mllib.regression import LabeledPoint\nfrom pyspark.mllib.util import MLUtils"
        }, 
        {
            "metadata": {}, 
            "cell_type": "markdown", 
            "source": "\n\n### 1.1 Load TEST_SUM.csv from IBM Bluemix Object Store ###"
        }, 
        {
            "metadata": {
                "collapsed": true
            }, 
            "cell_type": "code", 
            "outputs": [], 
            "execution_count": 2, 
            "source": "from io import StringIO\nimport requests\nimport json\nimport pandas as pd\nimport numpy as np"
        }, 
        {
            "metadata": {}, 
            "cell_type": "code", 
            "outputs": [
                {
                    "metadata": {}, 
                    "execution_count": 3, 
                    "data": {
                        "text/plain": "      CUST_ID SEX  AGE  EDUCATION  INVESTMENT   INCOME  ACTIVITY  CHURN  \\\n0  1009530860   F   84          2      114368  3852862         5      0   \n1  1009544000   F   44          2       90298  3849843         1      0   \n2  1009534260   F   23          2       94881  3217364         1      1   \n3  1009574010   F   24          2      112099  2438218         4      1   \n4  1009578620   F   67          5       84638  2428245         3      0   \n\n   YRLY_AMT  AVG_DAILY_TX  YRLY_TX  AVG_TX_AMT  NEGTWEETS STATE  \\\n0    700259      0.917808      335   2090.3200          3    TX   \n1    726977      0.950685      347   2095.0400         10    CA   \n2    579084      0.920548      336   1723.4600          5    CA   \n3    470964      0.994521      363   1297.4199          2    WA   \n4    446615      0.917808      335   1333.1799         10    CT   \n\n    EDUCATION_GROUP  TwitterID CHURN_LABEL         INSERT_TIME  \n0  Bachelors degree          0       False 2017-02-09 11:00:00  \n1  Bachelors degree          0       False 2017-02-09 11:00:00  \n2  Bachelors degree          0        True 2017-02-09 11:00:00  \n3  Bachelors degree          0        True 2017-02-09 11:00:00  \n4         Doctorate          0       False 2017-02-09 11:00:00  ", 
                        "text/html": "<div>\n<table border=\"1\" class=\"dataframe\">\n  <thead>\n    <tr style=\"text-align: right;\">\n      <th></th>\n      <th>CUST_ID</th>\n      <th>SEX</th>\n      <th>AGE</th>\n      <th>EDUCATION</th>\n      <th>INVESTMENT</th>\n      <th>INCOME</th>\n      <th>ACTIVITY</th>\n      <th>CHURN</th>\n      <th>YRLY_AMT</th>\n      <th>AVG_DAILY_TX</th>\n      <th>YRLY_TX</th>\n      <th>AVG_TX_AMT</th>\n      <th>NEGTWEETS</th>\n      <th>STATE</th>\n      <th>EDUCATION_GROUP</th>\n      <th>TwitterID</th>\n      <th>CHURN_LABEL</th>\n      <th>INSERT_TIME</th>\n    </tr>\n  </thead>\n  <tbody>\n    <tr>\n      <th>0</th>\n      <td>1009530860</td>\n      <td>F</td>\n      <td>84</td>\n      <td>2</td>\n      <td>114368</td>\n      <td>3852862</td>\n      <td>5</td>\n      <td>0</td>\n      <td>700259</td>\n      <td>0.917808</td>\n      <td>335</td>\n      <td>2090.3200</td>\n      <td>3</td>\n      <td>TX</td>\n      <td>Bachelors degree</td>\n      <td>0</td>\n      <td>False</td>\n      <td>2017-02-09 11:00:00</td>\n    </tr>\n    <tr>\n      <th>1</th>\n      <td>1009544000</td>\n      <td>F</td>\n      <td>44</td>\n      <td>2</td>\n      <td>90298</td>\n      <td>3849843</td>\n      <td>1</td>\n      <td>0</td>\n      <td>726977</td>\n      <td>0.950685</td>\n      <td>347</td>\n      <td>2095.0400</td>\n      <td>10</td>\n      <td>CA</td>\n      <td>Bachelors degree</td>\n      <td>0</td>\n      <td>False</td>\n      <td>2017-02-09 11:00:00</td>\n    </tr>\n    <tr>\n      <th>2</th>\n      <td>1009534260</td>\n      <td>F</td>\n      <td>23</td>\n      <td>2</td>\n      <td>94881</td>\n      <td>3217364</td>\n      <td>1</td>\n      <td>1</td>\n      <td>579084</td>\n      <td>0.920548</td>\n      <td>336</td>\n      <td>1723.4600</td>\n      <td>5</td>\n      <td>CA</td>\n      <td>Bachelors degree</td>\n      <td>0</td>\n      <td>True</td>\n      <td>2017-02-09 11:00:00</td>\n    </tr>\n    <tr>\n      <th>3</th>\n      <td>1009574010</td>\n      <td>F</td>\n      <td>24</td>\n      <td>2</td>\n      <td>112099</td>\n      <td>2438218</td>\n      <td>4</td>\n      <td>1</td>\n      <td>470964</td>\n      <td>0.994521</td>\n      <td>363</td>\n      <td>1297.4199</td>\n      <td>2</td>\n      <td>WA</td>\n      <td>Bachelors degree</td>\n      <td>0</td>\n      <td>True</td>\n      <td>2017-02-09 11:00:00</td>\n    </tr>\n    <tr>\n      <th>4</th>\n      <td>1009578620</td>\n      <td>F</td>\n      <td>67</td>\n      <td>5</td>\n      <td>84638</td>\n      <td>2428245</td>\n      <td>3</td>\n      <td>0</td>\n      <td>446615</td>\n      <td>0.917808</td>\n      <td>335</td>\n      <td>1333.1799</td>\n      <td>10</td>\n      <td>CT</td>\n      <td>Doctorate</td>\n      <td>0</td>\n      <td>False</td>\n      <td>2017-02-09 11:00:00</td>\n    </tr>\n  </tbody>\n</table>\n</div>"
                    }, 
                    "output_type": "execute_result"
                }
            ], 
            "execution_count": 3, 
            "source": "# The code was removed by DSX for sharing."
        }, 
        {
            "metadata": {}, 
            "cell_type": "markdown", 
            "source": "\n\n### 1.2 Select Churn Data for the Model ###\n<p>Select AGE, ACTIVITY, EDUCATION, SEX, STATE, NEGTWEETS, INCOME, CHURN from the churnDataRaw dataframe.</p>"
        }, 
        {
            "metadata": {}, 
            "cell_type": "code", 
            "outputs": [
                {
                    "metadata": {}, 
                    "execution_count": 4, 
                    "data": {
                        "text/plain": "   AGE  ACTIVITY  EDUCATION SEX STATE  NEGTWEETS   INCOME  CHURN\n0   84         5          2   F    TX          3  3852862      0\n1   44         1          2   F    CA         10  3849843      0\n2   23         1          2   F    CA          5  3217364      1\n3   24         4          2   F    WA          2  2438218      1\n4   67         3          5   F    CT         10  2428245      0", 
                        "text/html": "<div>\n<table border=\"1\" class=\"dataframe\">\n  <thead>\n    <tr style=\"text-align: right;\">\n      <th></th>\n      <th>AGE</th>\n      <th>ACTIVITY</th>\n      <th>EDUCATION</th>\n      <th>SEX</th>\n      <th>STATE</th>\n      <th>NEGTWEETS</th>\n      <th>INCOME</th>\n      <th>CHURN</th>\n    </tr>\n  </thead>\n  <tbody>\n    <tr>\n      <th>0</th>\n      <td>84</td>\n      <td>5</td>\n      <td>2</td>\n      <td>F</td>\n      <td>TX</td>\n      <td>3</td>\n      <td>3852862</td>\n      <td>0</td>\n    </tr>\n    <tr>\n      <th>1</th>\n      <td>44</td>\n      <td>1</td>\n      <td>2</td>\n      <td>F</td>\n      <td>CA</td>\n      <td>10</td>\n      <td>3849843</td>\n      <td>0</td>\n    </tr>\n    <tr>\n      <th>2</th>\n      <td>23</td>\n      <td>1</td>\n      <td>2</td>\n      <td>F</td>\n      <td>CA</td>\n      <td>5</td>\n      <td>3217364</td>\n      <td>1</td>\n    </tr>\n    <tr>\n      <th>3</th>\n      <td>24</td>\n      <td>4</td>\n      <td>2</td>\n      <td>F</td>\n      <td>WA</td>\n      <td>2</td>\n      <td>2438218</td>\n      <td>1</td>\n    </tr>\n    <tr>\n      <th>4</th>\n      <td>67</td>\n      <td>3</td>\n      <td>5</td>\n      <td>F</td>\n      <td>CT</td>\n      <td>10</td>\n      <td>2428245</td>\n      <td>0</td>\n    </tr>\n  </tbody>\n</table>\n</div>"
                    }, 
                    "output_type": "execute_result"
                }
            ], 
            "execution_count": 4, 
            "source": "churnData = df.select('AGE', 'ACTIVITY', 'EDUCATION', 'SEX', 'STATE', 'NEGTWEETS', 'INCOME', 'CHURN')\nchurnData.toPandas().head()"
        }, 
        {
            "metadata": {}, 
            "cell_type": "markdown", 
            "source": "\n\n\n## 2. Create an Apache Spark machine learning model ##\n-------------------------------------\n<p>Prepare data, create an Apache Spark machine learning pipeline, and train a model.</p>"
        }, 
        {
            "metadata": {}, 
            "cell_type": "markdown", 
            "source": "\n\n\n### 2.1 Prepare the Data ###\n<p>In this subsection you will split your data into: train, test and predict datasets.</p>"
        }, 
        {
            "metadata": {
                "scrolled": true
            }, 
            "cell_type": "code", 
            "outputs": [
                {
                    "metadata": {}, 
                    "execution_count": 5, 
                    "data": {
                        "text/plain": "      CUST_ID SEX  AGE  EDUCATION  INVESTMENT  INCOME  ACTIVITY  CHURN  \\\n0  1009520370   F   63          4           0   13035         3      0   \n1  1009520390   M   31          2      111192  129276         2      0   \n2  1009520410   F   53          1           0   17576         1      0   \n3  1009520430   M   48          2       11258   20142         1      1   \n4  1009520440   M   34          1           0   33727         2      0   \n\n     YRLY_AMT  AVG_DAILY_TX  YRLY_TX  AVG_TX_AMT  NEGTWEETS STATE  \\\n0   6339.0703      0.663014      242   26.194504          2    MD   \n1  31141.1020      0.797260      291  107.014010          2    MS   \n2   7961.8086      0.663014      242   32.899994          4    AK   \n3   8800.0200      0.654795      239   36.820206         10    MD   \n4  12936.6020      0.660274      241   53.678894          2    MS   \n\n        EDUCATION_GROUP  TwitterID CHURN_LABEL         INSERT_TIME  \n0      Associate degree          0       False 2017-02-09 16:30:00  \n1      Bachelors degree          0       False 2017-02-09 11:00:00  \n2  High school graduate          0       False 2017-02-09 15:00:00  \n3      Bachelors degree          0        True 2017-02-09 14:00:00  \n4  High school graduate          0       False 2017-02-09 12:00:00  ", 
                        "text/html": "<div>\n<table border=\"1\" class=\"dataframe\">\n  <thead>\n    <tr style=\"text-align: right;\">\n      <th></th>\n      <th>CUST_ID</th>\n      <th>SEX</th>\n      <th>AGE</th>\n      <th>EDUCATION</th>\n      <th>INVESTMENT</th>\n      <th>INCOME</th>\n      <th>ACTIVITY</th>\n      <th>CHURN</th>\n      <th>YRLY_AMT</th>\n      <th>AVG_DAILY_TX</th>\n      <th>YRLY_TX</th>\n      <th>AVG_TX_AMT</th>\n      <th>NEGTWEETS</th>\n      <th>STATE</th>\n      <th>EDUCATION_GROUP</th>\n      <th>TwitterID</th>\n      <th>CHURN_LABEL</th>\n      <th>INSERT_TIME</th>\n    </tr>\n  </thead>\n  <tbody>\n    <tr>\n      <th>0</th>\n      <td>1009520370</td>\n      <td>F</td>\n      <td>63</td>\n      <td>4</td>\n      <td>0</td>\n      <td>13035</td>\n      <td>3</td>\n      <td>0</td>\n      <td>6339.0703</td>\n      <td>0.663014</td>\n      <td>242</td>\n      <td>26.194504</td>\n      <td>2</td>\n      <td>MD</td>\n      <td>Associate degree</td>\n      <td>0</td>\n      <td>False</td>\n      <td>2017-02-09 16:30:00</td>\n    </tr>\n    <tr>\n      <th>1</th>\n      <td>1009520390</td>\n      <td>M</td>\n      <td>31</td>\n      <td>2</td>\n      <td>111192</td>\n      <td>129276</td>\n      <td>2</td>\n      <td>0</td>\n      <td>31141.1020</td>\n      <td>0.797260</td>\n      <td>291</td>\n      <td>107.014010</td>\n      <td>2</td>\n      <td>MS</td>\n      <td>Bachelors degree</td>\n      <td>0</td>\n      <td>False</td>\n      <td>2017-02-09 11:00:00</td>\n    </tr>\n    <tr>\n      <th>2</th>\n      <td>1009520410</td>\n      <td>F</td>\n      <td>53</td>\n      <td>1</td>\n      <td>0</td>\n      <td>17576</td>\n      <td>1</td>\n      <td>0</td>\n      <td>7961.8086</td>\n      <td>0.663014</td>\n      <td>242</td>\n      <td>32.899994</td>\n      <td>4</td>\n      <td>AK</td>\n      <td>High school graduate</td>\n      <td>0</td>\n      <td>False</td>\n      <td>2017-02-09 15:00:00</td>\n    </tr>\n    <tr>\n      <th>3</th>\n      <td>1009520430</td>\n      <td>M</td>\n      <td>48</td>\n      <td>2</td>\n      <td>11258</td>\n      <td>20142</td>\n      <td>1</td>\n      <td>1</td>\n      <td>8800.0200</td>\n      <td>0.654795</td>\n      <td>239</td>\n      <td>36.820206</td>\n      <td>10</td>\n      <td>MD</td>\n      <td>Bachelors degree</td>\n      <td>0</td>\n      <td>True</td>\n      <td>2017-02-09 14:00:00</td>\n    </tr>\n    <tr>\n      <th>4</th>\n      <td>1009520440</td>\n      <td>M</td>\n      <td>34</td>\n      <td>1</td>\n      <td>0</td>\n      <td>33727</td>\n      <td>2</td>\n      <td>0</td>\n      <td>12936.6020</td>\n      <td>0.660274</td>\n      <td>241</td>\n      <td>53.678894</td>\n      <td>2</td>\n      <td>MS</td>\n      <td>High school graduate</td>\n      <td>0</td>\n      <td>False</td>\n      <td>2017-02-09 12:00:00</td>\n    </tr>\n  </tbody>\n</table>\n</div>"
                    }, 
                    "output_type": "execute_result"
                }
            ], 
            "execution_count": 5, 
            "source": "trainDF, validateDF, testDF = df.randomSplit([.7,.15,.15])\ntrainDF.toPandas().head()"
        }, 
        {
            "metadata": {}, 
            "cell_type": "code", 
            "outputs": [
                {
                    "metadata": {}, 
                    "execution_count": 6, 
                    "data": {
                        "text/plain": "      CUST_ID SEX  AGE  EDUCATION  INVESTMENT  INCOME  ACTIVITY  CHURN  \\\n0  1009520610   M   48          1           0   29969         2      0   \n1  1009520630   F   57          2       11331   40597         3      0   \n2  1009520650   F   22          1           0   16832         2      1   \n3  1009520660   F   73          1           0   19673         1      1   \n4  1009520830   F   26          1           0   21760         2      0   \n\n     YRLY_AMT  AVG_DAILY_TX  YRLY_TX  AVG_TX_AMT  NEGTWEETS STATE  \\\n0  11868.8010      0.660274      241   49.248000          2    MS   \n1  15046.8010      0.663014      242   62.176697          4    AR   \n2   7883.5586      0.657534      240   32.848206         10    MD   \n3   8582.1020      0.671233      245   35.029007         10    OR   \n4  10611.8010      0.701370      256   41.452500          2    AK   \n\n        EDUCATION_GROUP  TwitterID CHURN_LABEL         INSERT_TIME  \n0  High school graduate          0       False 2017-02-09 12:00:00  \n1      Bachelors degree          0       False 2017-02-09 11:30:00  \n2  High school graduate          0        True 2017-02-09 15:30:00  \n3  High school graduate          0        True 2017-02-09 14:00:00  \n4  High school graduate          0       False 2017-02-09 13:00:00  ", 
                        "text/html": "<div>\n<table border=\"1\" class=\"dataframe\">\n  <thead>\n    <tr style=\"text-align: right;\">\n      <th></th>\n      <th>CUST_ID</th>\n      <th>SEX</th>\n      <th>AGE</th>\n      <th>EDUCATION</th>\n      <th>INVESTMENT</th>\n      <th>INCOME</th>\n      <th>ACTIVITY</th>\n      <th>CHURN</th>\n      <th>YRLY_AMT</th>\n      <th>AVG_DAILY_TX</th>\n      <th>YRLY_TX</th>\n      <th>AVG_TX_AMT</th>\n      <th>NEGTWEETS</th>\n      <th>STATE</th>\n      <th>EDUCATION_GROUP</th>\n      <th>TwitterID</th>\n      <th>CHURN_LABEL</th>\n      <th>INSERT_TIME</th>\n    </tr>\n  </thead>\n  <tbody>\n    <tr>\n      <th>0</th>\n      <td>1009520610</td>\n      <td>M</td>\n      <td>48</td>\n      <td>1</td>\n      <td>0</td>\n      <td>29969</td>\n      <td>2</td>\n      <td>0</td>\n      <td>11868.8010</td>\n      <td>0.660274</td>\n      <td>241</td>\n      <td>49.248000</td>\n      <td>2</td>\n      <td>MS</td>\n      <td>High school graduate</td>\n      <td>0</td>\n      <td>False</td>\n      <td>2017-02-09 12:00:00</td>\n    </tr>\n    <tr>\n      <th>1</th>\n      <td>1009520630</td>\n      <td>F</td>\n      <td>57</td>\n      <td>2</td>\n      <td>11331</td>\n      <td>40597</td>\n      <td>3</td>\n      <td>0</td>\n      <td>15046.8010</td>\n      <td>0.663014</td>\n      <td>242</td>\n      <td>62.176697</td>\n      <td>4</td>\n      <td>AR</td>\n      <td>Bachelors degree</td>\n      <td>0</td>\n      <td>False</td>\n      <td>2017-02-09 11:30:00</td>\n    </tr>\n    <tr>\n      <th>2</th>\n      <td>1009520650</td>\n      <td>F</td>\n      <td>22</td>\n      <td>1</td>\n      <td>0</td>\n      <td>16832</td>\n      <td>2</td>\n      <td>1</td>\n      <td>7883.5586</td>\n      <td>0.657534</td>\n      <td>240</td>\n      <td>32.848206</td>\n      <td>10</td>\n      <td>MD</td>\n      <td>High school graduate</td>\n      <td>0</td>\n      <td>True</td>\n      <td>2017-02-09 15:30:00</td>\n    </tr>\n    <tr>\n      <th>3</th>\n      <td>1009520660</td>\n      <td>F</td>\n      <td>73</td>\n      <td>1</td>\n      <td>0</td>\n      <td>19673</td>\n      <td>1</td>\n      <td>1</td>\n      <td>8582.1020</td>\n      <td>0.671233</td>\n      <td>245</td>\n      <td>35.029007</td>\n      <td>10</td>\n      <td>OR</td>\n      <td>High school graduate</td>\n      <td>0</td>\n      <td>True</td>\n      <td>2017-02-09 14:00:00</td>\n    </tr>\n    <tr>\n      <th>4</th>\n      <td>1009520830</td>\n      <td>F</td>\n      <td>26</td>\n      <td>1</td>\n      <td>0</td>\n      <td>21760</td>\n      <td>2</td>\n      <td>0</td>\n      <td>10611.8010</td>\n      <td>0.701370</td>\n      <td>256</td>\n      <td>41.452500</td>\n      <td>2</td>\n      <td>AK</td>\n      <td>High school graduate</td>\n      <td>0</td>\n      <td>False</td>\n      <td>2017-02-09 13:00:00</td>\n    </tr>\n  </tbody>\n</table>\n</div>"
                    }, 
                    "output_type": "execute_result"
                }
            ], 
            "execution_count": 6, 
            "source": "testDF.toPandas().head()"
        }, 
        {
            "metadata": {}, 
            "cell_type": "code", 
            "outputs": [
                {
                    "metadata": {}, 
                    "execution_count": 7, 
                    "data": {
                        "text/plain": "      CUST_ID SEX  AGE  EDUCATION  INVESTMENT  INCOME  ACTIVITY  CHURN  \\\n0  1009520380   F   59          1           0   18267         0      0   \n1  1009520400   M   50          1           0   17867         2      0   \n2  1009520420   F   48          3       90419  111569         5      0   \n3  1009520450   F   47          1           0   17678         2      0   \n4  1009520490   F   45          4       13635   31180         2      1   \n\n     YRLY_AMT  AVG_DAILY_TX  YRLY_TX  AVG_TX_AMT  NEGTWEETS STATE  \\\n0   7957.1406      0.654795      239   33.293503          2    ME   \n1   7946.0780      0.660274      241   32.971300          4    UT   \n2  26803.0000      0.794521      290   92.424100          3    LA   \n3   9150.5780      0.693151      253   36.168304          1    ID   \n4  12049.8980      0.668493      244   49.384705          5    MD   \n\n        EDUCATION_GROUP  TwitterID CHURN_LABEL         INSERT_TIME  \n0  High school graduate          0       False 2017-02-09 14:30:00  \n1  High school graduate          0       False 2017-02-09 15:00:00  \n2       Master's degree          0       False 2017-02-09 11:00:00  \n3  High school graduate          0       False 2017-02-09 15:00:00  \n4      Associate degree          0        True 2017-02-09 12:00:00  ", 
                        "text/html": "<div>\n<table border=\"1\" class=\"dataframe\">\n  <thead>\n    <tr style=\"text-align: right;\">\n      <th></th>\n      <th>CUST_ID</th>\n      <th>SEX</th>\n      <th>AGE</th>\n      <th>EDUCATION</th>\n      <th>INVESTMENT</th>\n      <th>INCOME</th>\n      <th>ACTIVITY</th>\n      <th>CHURN</th>\n      <th>YRLY_AMT</th>\n      <th>AVG_DAILY_TX</th>\n      <th>YRLY_TX</th>\n      <th>AVG_TX_AMT</th>\n      <th>NEGTWEETS</th>\n      <th>STATE</th>\n      <th>EDUCATION_GROUP</th>\n      <th>TwitterID</th>\n      <th>CHURN_LABEL</th>\n      <th>INSERT_TIME</th>\n    </tr>\n  </thead>\n  <tbody>\n    <tr>\n      <th>0</th>\n      <td>1009520380</td>\n      <td>F</td>\n      <td>59</td>\n      <td>1</td>\n      <td>0</td>\n      <td>18267</td>\n      <td>0</td>\n      <td>0</td>\n      <td>7957.1406</td>\n      <td>0.654795</td>\n      <td>239</td>\n      <td>33.293503</td>\n      <td>2</td>\n      <td>ME</td>\n      <td>High school graduate</td>\n      <td>0</td>\n      <td>False</td>\n      <td>2017-02-09 14:30:00</td>\n    </tr>\n    <tr>\n      <th>1</th>\n      <td>1009520400</td>\n      <td>M</td>\n      <td>50</td>\n      <td>1</td>\n      <td>0</td>\n      <td>17867</td>\n      <td>2</td>\n      <td>0</td>\n      <td>7946.0780</td>\n      <td>0.660274</td>\n      <td>241</td>\n      <td>32.971300</td>\n      <td>4</td>\n      <td>UT</td>\n      <td>High school graduate</td>\n      <td>0</td>\n      <td>False</td>\n      <td>2017-02-09 15:00:00</td>\n    </tr>\n    <tr>\n      <th>2</th>\n      <td>1009520420</td>\n      <td>F</td>\n      <td>48</td>\n      <td>3</td>\n      <td>90419</td>\n      <td>111569</td>\n      <td>5</td>\n      <td>0</td>\n      <td>26803.0000</td>\n      <td>0.794521</td>\n      <td>290</td>\n      <td>92.424100</td>\n      <td>3</td>\n      <td>LA</td>\n      <td>Master's degree</td>\n      <td>0</td>\n      <td>False</td>\n      <td>2017-02-09 11:00:00</td>\n    </tr>\n    <tr>\n      <th>3</th>\n      <td>1009520450</td>\n      <td>F</td>\n      <td>47</td>\n      <td>1</td>\n      <td>0</td>\n      <td>17678</td>\n      <td>2</td>\n      <td>0</td>\n      <td>9150.5780</td>\n      <td>0.693151</td>\n      <td>253</td>\n      <td>36.168304</td>\n      <td>1</td>\n      <td>ID</td>\n      <td>High school graduate</td>\n      <td>0</td>\n      <td>False</td>\n      <td>2017-02-09 15:00:00</td>\n    </tr>\n    <tr>\n      <th>4</th>\n      <td>1009520490</td>\n      <td>F</td>\n      <td>45</td>\n      <td>4</td>\n      <td>13635</td>\n      <td>31180</td>\n      <td>2</td>\n      <td>1</td>\n      <td>12049.8980</td>\n      <td>0.668493</td>\n      <td>244</td>\n      <td>49.384705</td>\n      <td>5</td>\n      <td>MD</td>\n      <td>Associate degree</td>\n      <td>0</td>\n      <td>True</td>\n      <td>2017-02-09 12:00:00</td>\n    </tr>\n  </tbody>\n</table>\n</div>"
                    }, 
                    "output_type": "execute_result"
                }
            ], 
            "execution_count": 7, 
            "source": "validateDF.toPandas().head()"
        }, 
        {
            "metadata": {}, 
            "cell_type": "markdown", 
            "source": "\n\n\n### 2.2 Create pipeline and train a model ###\n<p>In this section you will create an Apache\u00ae Spark machine learning pipeline and then train the model.</p>"
        }, 
        {
            "metadata": {
                "collapsed": true
            }, 
            "cell_type": "code", 
            "outputs": [], 
            "execution_count": 8, 
            "source": "from pyspark.ml.feature import OneHotEncoder, StringIndexer, IndexToString, VectorAssembler\nfrom pyspark.ml.classification import RandomForestClassifier\nfrom pyspark.ml.evaluation import MulticlassClassificationEvaluator\nfrom pyspark.ml import Pipeline, Model"
        }, 
        {
            "metadata": {
                "collapsed": true
            }, 
            "cell_type": "code", 
            "outputs": [], 
            "execution_count": 9, 
            "source": "from pyspark.ml.feature import StringIndexer\nfrom pyspark.ml.linalg import Vectors\nfrom pyspark.ml.feature import VectorAssembler\n\ngenderIndexer = StringIndexer(inputCol=\"SEX\", outputCol=\"gender_code\")\nstateIndexer = StringIndexer(inputCol=\"STATE\", outputCol=\"state_code\")\nfeaturesAssembler = VectorAssembler(\n    inputCols=[\"AGE\", \"ACTIVITY\",\"EDUCATION\",\"NEGTWEETS\",\"INCOME\",\"gender_code\",\"state_code\"],\n    outputCol=\"features\")"
        }, 
        {
            "metadata": {}, 
            "cell_type": "markdown", 
            "source": "<p>Next, define estimators you want to use for classification. Logistics Regression is used in the following example.</p>"
        }, 
        {
            "metadata": {
                "collapsed": true
            }, 
            "cell_type": "code", 
            "outputs": [], 
            "execution_count": 10, 
            "source": "from pyspark.ml.classification import LogisticRegression\nlr = LogisticRegression(regParam=0.01, labelCol=\"CHURN\", featuresCol=\"features\")"
        }, 
        {
            "metadata": {}, 
            "cell_type": "markdown", 
            "source": "<p>Setup a Cognitive Assistant for Data Scientists - predict model performance based on sampled data</p>"
        }, 
        {
            "metadata": {
                "collapsed": true
            }, 
            "cell_type": "code", 
            "outputs": [], 
            "execution_count": 11, 
            "source": "from pyspark.sql import SQLContext\nsqlContext = SQLContext(sc)"
        }, 
        {
            "metadata": {}, 
            "cell_type": "code", 
            "outputs": [], 
            "execution_count": 12, 
            "source": "pipeline = Pipeline(stages=[genderIndexer, stateIndexer, featuresAssembler, lr])\nmodel = pipeline.fit(trainDF)"
        }, 
        {
            "metadata": {}, 
            "cell_type": "markdown", 
            "source": "<p>You can check your model accuracy now. To evaluate the model, use test data.</p>"
        }, 
        {
            "metadata": {}, 
            "cell_type": "code", 
            "outputs": [
                {
                    "output_type": "stream", 
                    "text": "Accuracy = 0.927232635061\nTest Error = 0.0727673649394\n", 
                    "name": "stdout"
                }
            ], 
            "execution_count": 13, 
            "source": "from pyspark.ml.evaluation import MulticlassClassificationEvaluator\n\npredictions = model.transform(testDF)\nevaluatorRF = MulticlassClassificationEvaluator(labelCol=\"CHURN\", predictionCol=\"prediction\", metricName=\"accuracy\")\naccuracy = evaluatorRF.evaluate(predictions)\nprint \"Accuracy = \" + str(accuracy)\nprint \"Test Error = \" + str(1.0 - accuracy)"
        }, 
        {
            "metadata": {
                "collapsed": true
            }, 
            "cell_type": "code", 
            "outputs": [], 
            "execution_count": 14, 
            "source": "from pyspark.mllib.evaluation import BinaryClassificationMetrics\nfrom pyspark.mllib.regression import LabeledPoint"
        }, 
        {
            "metadata": {}, 
            "cell_type": "code", 
            "outputs": [
                {
                    "metadata": {}, 
                    "execution_count": 15, 
                    "data": {
                        "text/plain": "[(0.0, 0.0), (0.0, 0.0)]"
                    }, 
                    "output_type": "execute_result"
                }
            ], 
            "execution_count": 15, 
            "source": "predictionsAndLabels = predictions.rdd.map(lambda r: (float(r.prediction),float(r['CHURN'])))\npredictionsAndLabels.take(2)"
        }, 
        {
            "metadata": {
                "collapsed": true
            }, 
            "cell_type": "code", 
            "outputs": [], 
            "execution_count": 16, 
            "source": "# Instantiate metrics object\nmetrics = BinaryClassificationMetrics(predictionsAndLabels)"
        }, 
        {
            "metadata": {}, 
            "cell_type": "code", 
            "outputs": [
                {
                    "output_type": "stream", 
                    "text": "Area under PR = 0.865194375099\nArea under ROC = 0.910148692346\n", 
                    "name": "stdout"
                }
            ], 
            "execution_count": 17, 
            "source": "# Area under precision-recall curve\nprint(\"Area under PR = %s\" % metrics.areaUnderPR)\n\n# Area under ROC curve\nprint(\"Area under ROC = %s\" % metrics.areaUnderROC)"
        }, 
        {
            "metadata": {}, 
            "cell_type": "markdown", 
            "source": "\n<p>Create a true positive and false positive rate</p>"
        }, 
        {
            "metadata": {}, 
            "cell_type": "code", 
            "outputs": [], 
            "execution_count": 19, 
            "source": "import numpy as np\npR = [(1.0,1.0)]\nfor i in np.arange(0.0, 1.01, 0.01):\n    preds = predictions.rdd.map(lambda r: (float(r['probability'][1]>i),float(r['CHURN']),r['probability']))\n    tp = float(preds.filter(lambda r: r[0] == 1.0 and r[1] == 1.0).count())\n    fp = float(preds.filter(lambda r: r[0] == 1.0 and r[1] == 0.0).count())\n    fn = float(preds.filter(lambda r: r[0] == 0.0 and r[1] == 1.0).count())\n    tn = float(preds.filter(lambda r: r[0] == 0.0 and r[1] == 0.0).count())\n    if tp == 0.0 and fp == 0.0:\n        pR.append((0.0,0.0))\n    else:\n        recall = tp/(tp+fn)\n        falsePosRate = fp/(fp+tn)\n        pR.append((falsePosRate,recall))\npR.append((0.0,0.0))"
        }, 
        {
            "metadata": {}, 
            "cell_type": "markdown", 
            "source": "\n<p>Load the rocCurve into a dataframe</p>"
        }, 
        {
            "metadata": {
                "scrolled": true, 
                "collapsed": true
            }, 
            "cell_type": "code", 
            "outputs": [], 
            "execution_count": 20, 
            "source": "import seaborn as sns\nimport pandas as pd\n%matplotlib inline\nrocDF = pd.DataFrame(pR)\nrocDF = rocDF.rename(index=str, columns={0: \"FalsePositiveRate\", 1: \"TruePositiveRate\"})"
        }, 
        {
            "metadata": {}, 
            "cell_type": "markdown", 
            "source": "<p>Display the models ROC curve on the Brunel chart setting the \"False Positive Rate\" and \"True Positive Rate\"</p>"
        }, 
        {
            "metadata": {}, 
            "cell_type": "code", 
            "outputs": [
                {
                    "metadata": {}, 
                    "data": {
                        "text/plain": "<IPython.core.display.HTML object>", 
                        "text/html": "<!--\n  ~ Copyright (c) 2015 IBM Corporation and others.\n  ~\n  ~ Licensed under the Apache License, Version 2.0 (the \"License\");\n  ~ You may not use this file except in compliance with the License.\n  ~ You may obtain a copy of the License at\n  ~\n  ~     http://www.apache.org/licenses/LICENSE-2.0\n  ~\n  ~ Unless required by applicable law or agreed to in writing, software\n  ~ distributed under the License is distributed on an \"AS IS\" BASIS,\n  ~ WITHOUT WARRANTIES OR CONDITIONS OF ANY KIND, either express or implied.\n  ~ See the License for the specific language governing permissions and\n  ~ limitations under the License.\n  -->\n\n\n<link rel=\"stylesheet\" type=\"text/css\" href=\"/data/jupyter2/67439671-2d39-4ea3-93b2-c7634938ff52/nbextensions/brunel_ext/brunel.2.3.css\">\n<link rel=\"stylesheet\" type=\"text/css\" href=\"/data/jupyter2/67439671-2d39-4ea3-93b2-c7634938ff52/nbextensions/brunel_ext/sumoselect.css\">\n\n<style>\n    \n</style>\n\n<div id=\"controlsid14625cac-c4eb-11e7-8cdc-002590fb6afc\" class=\"brunel\"/>\n<svg id=\"visid14625914-c4eb-11e7-8cdc-002590fb6afc\" width=\"500\" height=\"400\"></svg>"
                    }, 
                    "output_type": "display_data"
                }, 
                {
                    "metadata": {}, 
                    "execution_count": 21, 
                    "data": {
                        "application/javascript": "/*\n * Copyright (c) 2015 IBM Corporation and others.\n *\n * Licensed under the Apache License, Version 2.0 (the \"License\");\n * You may not use this file except in compliance with the License.\n * You may obtain a copy of the License at\n *\n *     http://www.apache.org/licenses/LICENSE-2.0\n *\n * Unless required by applicable law or agreed to in writing, software\n * distributed under the License is distributed on an \"AS IS\" BASIS,\n * WITHOUT WARRANTIES OR CONDITIONS OF ANY KIND, either express or implied.\n * See the License for the specific language governing permissions and\n * limitations under the License.\n */\n\nrequire.config({\n    waitSeconds: 60,\n    paths: {\n        'd3': '//cdnjs.cloudflare.com/ajax/libs/d3/4.2.1/d3.min',\n        'topojson': '//cdnjs.cloudflare.com/ajax/libs/topojson/1.6.20/topojson.min',\n        'brunel' : '/data/jupyter2/67439671-2d39-4ea3-93b2-c7634938ff52/nbextensions/brunel_ext/brunel.2.3.min',\n        'brunelControls' : '/data/jupyter2/67439671-2d39-4ea3-93b2-c7634938ff52/nbextensions/brunel_ext/brunel.controls.2.3.min'\n    },\n    shim: {\n       'brunel' : {\n            exports: 'BrunelD3',\n            deps: ['d3', 'topojson'],\n            init: function() {\n               return {\n                 BrunelD3 : BrunelD3,\n                 BrunelData : BrunelData\n              }\n            }\n        },\n       'brunelControls' : {\n            exports: 'BrunelEventHandlers',\n            init: function() {\n               return {\n                 BrunelEventHandlers: BrunelEventHandlers,\n                 BrunelJQueryControlFactory: BrunelJQueryControlFactory\n              }\n            }\n        }\n\n    }\n\n});\n\nrequire([\"d3\"], function(d3) {\n    require([\"brunel\", \"brunelControls\"], function(brunel, brunelControls) {\n        function  BrunelVis(visId) {\n  \"use strict\";                                                                       // strict mode\n  var datasets = [],                                      // array of datasets for the original data\n      pre = function(d, i) { return d },                         // default pre-process does nothing\n      post = function(d, i) { return d },                       // default post-process does nothing\n      transitionTime = 200,                                        // transition time for animations\n      charts = [],                                                       // the charts in the system\n      vis = d3.select('#' + visId).attr('class', 'brunel');                     // the SVG container\n\n  BrunelD3.addDefinitions(vis);                                   // ensure standard symbols present\n\n  // Define chart #1 in the visualization //////////////////////////////////////////////////////////\n\n  charts[0] = function(parentNode, filterRows) {\n    var geom = BrunelD3.geometry(parentNode || vis.node(), 0, 0, 1, 1, 22, 43, 37, 13),\n      elements = [];                                              // array of elements in this chart\n\n    // Define groups for the chart parts ///////////////////////////////////////////////////////////\n\n    var chart =  vis.append('g').attr('class', 'chart1')\n      .attr('transform','translate(' + geom.chart_left + ',' + geom.chart_top + ')');\n    var overlay = chart.append('g').attr('class', 'element').attr('class', 'overlay');\n    var zoom = d3.zoom().scaleExtent([1/3,3]);\n    var zoomNode = overlay.append('rect').attr('class', 'overlay')\n      .attr('x', geom.inner_left).attr('y', geom.inner_top)\n      .attr('width', geom.inner_rawWidth).attr('height', geom.inner_rawHeight)\n      .style('cursor', 'move').call(zoom)\n      .node();\n    zoomNode.__zoom = d3.zoomIdentity;\n    chart.append('rect').attr('class', 'background').attr('width', geom.chart_right-geom.chart_left).attr('height', geom.chart_bottom-geom.chart_top);\n    var interior = chart.append('g').attr('class', 'interior zoomNone')\n      .attr('transform','translate(' + geom.inner_left + ',' + geom.inner_top + ')')\n      .attr('clip-path', 'url(#clip_visid14625914-c4eb-11e7-8cdc-002590fb6afc_chart1_inner)');\n    interior.append('rect').attr('class', 'inner').attr('width', geom.inner_width).attr('height', geom.inner_height);\n    var gridGroup = interior.append('g').attr('class', 'grid');\n    var axes = chart.append('g').attr('class', 'axis')\n      .attr('transform','translate(' + geom.inner_left + ',' + geom.inner_top + ')');\n    vis.append('clipPath').attr('id', 'clip_visid14625914-c4eb-11e7-8cdc-002590fb6afc_chart1_inner').append('rect')\n      .attr('x', 0).attr('y', 0)\n      .attr('width', geom.inner_rawWidth+1).attr('height', geom.inner_rawHeight+1);\n    chart.append('text').attr('class', 'title header').text('ROC').style('text-anchor', 'middle')\n      .attr('x','50%')\n      .attr('y',2).attr('dy','0.8em');\n\n    // Scales //////////////////////////////////////////////////////////////////////////////////////\n\n    var scale_x = d3.scaleSqrt().domain([0, 1.0000001])\n      .range([0, geom.inner_width]);\n    var scale_inner = d3.scaleLinear().domain([0,1])\n      .range([-0.5, 0.5]);\n    var scale_y = d3.scaleLinear().domain([0, 1.0000001])\n      .range([geom.inner_height, 0]);\n    var base_scales = [scale_x, scale_y];                           // untransformed original scales\n\n    // Axes ////////////////////////////////////////////////////////////////////////////////////////\n\n    axes.append('g').attr('class', 'x axis')\n      .attr('transform','translate(0,' + geom.inner_rawHeight + ')')\n      .attr('clip-path', 'url(#clip_visid14625914-c4eb-11e7-8cdc-002590fb6afc_chart1_haxis)');\n    vis.append('clipPath').attr('id', 'clip_visid14625914-c4eb-11e7-8cdc-002590fb6afc_chart1_haxis').append('polyline')\n      .attr('points', '-1,-1000, -1,-1 -5,5, -1000,5, -100,1000, 10000,1000 10000,-1000');\n    axes.select('g.axis.x').append('text').attr('class', 'title').text('False Positive Rate').style('text-anchor', 'middle')\n      .attr('x',geom.inner_rawWidth/2)\n      .attr('y', geom.inner_bottom - 2.0).attr('dy','-0.27em');\n    axes.append('g').attr('class', 'y axis')\n      .attr('clip-path', 'url(#clip_visid14625914-c4eb-11e7-8cdc-002590fb6afc_chart1_vaxis)');\n    vis.append('clipPath').attr('id', 'clip_visid14625914-c4eb-11e7-8cdc-002590fb6afc_chart1_vaxis').append('polyline')\n      .attr('points', '-1000,-10000, 10000,-10000, 10000,' + (geom.inner_rawHeight+1) + ', -1,' + (geom.inner_rawHeight+1) + ', -1,' + (geom.inner_rawHeight+5) + ', -1000,' + (geom.inner_rawHeight+5) );\n    axes.select('g.axis.y').append('text').attr('class', 'title').text('True Positive Rate').style('text-anchor', 'middle')\n      .attr('x',-geom.inner_rawHeight/2)\n      .attr('y', 4-geom.inner_left).attr('dy', '0.7em').attr('transform', 'rotate(270)');\n\n    var axis_bottom = d3.axisBottom(scale_x).ticks(Math.min(10, Math.round(geom.inner_width / 33.0)));\n    var axis_left = d3.axisLeft(scale_y).ticks(Math.min(10, Math.round(geom.inner_width / 20)));\n\n    function buildAxes(time) {\n      var axis_x = axes.select('g.axis.x');\n      BrunelD3.transition(axis_x, time).call(axis_bottom.scale(scale_x));\n      var axis_y = axes.select('g.axis.y');\n      BrunelD3.transition(axis_y, time).call(axis_left.scale(scale_y));\n      BrunelD3.makeGrid(gridGroup, scale_x, geom.inner_height, true );\n      BrunelD3.makeGrid(gridGroup, scale_y, geom.inner_width, false );\n    }\n    zoom.on('zoom', function(t, time) {\n        t = t ||BrunelD3.restrictZoom(d3.event.transform, geom, this);\n        scale_x = t.rescaleX(base_scales[0]);\n        scale_y = t.rescaleY(base_scales[1]);\n        zoomNode.__zoom = t;\n        interior.attr('class', 'interior ' + BrunelD3.zoomLabel(t.k));;\n        build(time || -1);\n    });\n\n    // Define element #1 ///////////////////////////////////////////////////////////////////////////\n\n    elements[0] = function() {\n      var original, processed,                           // data sets passed in and then transformed\n        element, data,                                 // brunel element information and brunel data\n        selection, merged;                                      // d3 selection and merged selection\n      var elementGroup = interior.append('g').attr('class', 'element1'),\n        main = elementGroup.append('g').attr('class', 'main'),\n        labels = BrunelD3.undoTransform(elementGroup.append('g').attr('class', 'labels').attr('aria-hidden', 'true'), elementGroup);\n\n      function makeData() {\n        original = datasets[0];\n        if (filterRows) original = original.retainRows(filterRows);\n        processed = pre(original, 0)\n          .sortRows('FalsePositiveRate:ascending');\n        processed = post(processed, 0);\n        var f0 = processed.field('FalsePositiveRate'),\n          f1 = processed.field('TruePositiveRate'),\n          f2 = processed.field('#row'),\n          f3 = processed.field('#selection');\n        var keyFunc = function(d) { return 'ALL' };\n        data = {\n          FalsePositiveRate:function(d) { return f0.value(d.row) },\n          TruePositiveRate:function(d) { return f1.value(d.row) },\n          $row:         function(d) { return f2.value(d.row) },\n          $selection:   function(d) { return f3.value(d.row) },\n          FalsePositiveRate_f:function(d) { return f0.valueFormatted(d.row) },\n          TruePositiveRate_f:function(d) { return f1.valueFormatted(d.row) },\n          $row_f:       function(d) { return f2.valueFormatted(d.row) },\n          $selection_f: function(d) { return f3.valueFormatted(d.row) },\n          _split:       function(d) { return 'ALL' },\n          _key:         keyFunc,\n          _rows:        BrunelD3.makeRowsWithKeys(keyFunc, processed.rowCount())\n        };\n      }\n\n      // Build element from data ///////////////////////////////////////////////////////////////////\n\n      function build(transitionMillis) {\n        element = elements[0];\n        var w = geom.default_point_size;\n        var x = function(d) { return scale_x(data.FalsePositiveRate(d))};\n        var h = geom.default_point_size;\n        var y = function(d) { return scale_y(data.TruePositiveRate(d))};\n        // Define paths\n        var path = d3.line().x(x).y(y);\n        var splits = BrunelD3.makePathSplits(data, path, x);\n\n        // Define selection entry operations\n        function initialState(selection) {\n          selection\n            .attr('class', 'element line')\n        }\n\n        // Define selection update operations on merged data\n        function updateState(selection) {\n          selection\n            .attr('d', function(d) { return d.path });\n        }\n\n        // Define labeling for the selection\n        function label(selection, transitionMillis) {\n\n          var tooltipLabeling  = {\n            index: -1, method: 'path', location: ['center', 'center'], inside: true, align: 'middle', pad: 0, dy: 0.3,\n            fit: true, granularity: 0,\n            path: path,\n            content: function(d) {\n              return d.row == null ? null : '<span class=\"title\">False Positive Rate: </span>'\n\t\t\t+ '<span class=\"field\">' + data.FalsePositiveRate_f(d) + '</span>'\n\t\t\t+ '<br/>'\n\t\t\t+ '<span class=\"title\">True Positive Rate: </span>'\n\t\t\t+ '<span class=\"field\">' + data.TruePositiveRate_f(d) + '</span>'\n            }\n          };\n          BrunelD3.addTooltip(selection, tooltipLabeling, geom);\n        }\n        // Create selections, set the initial state and transition updates\n        selection = main.selectAll('.element').data(splits, function(d) { return d.key });\n        var added = selection.enter().append('path');\n        merged = selection.merge(added);\n        initialState(added);\n        selection.filter(BrunelD3.hasData)\n          .classed('selected', BrunelD3.isSelected(data))\n          .filter(BrunelD3.isSelected(data)).raise();\n        updateState(BrunelD3.transition(merged, transitionMillis));\n        label(merged, transitionMillis);\n\n        BrunelD3.transition(selection.exit(), transitionMillis/3)\n          .style('opacity', 0.5).each( function() {\n            this.remove(); BrunelD3.removeLabels(this); \n        });\n      }\n\n      return {\n        data:           function() { return processed },\n        original:       function() { return original },\n        internal:       function() { return data },\n        selection:      function() { return merged },\n        makeData:       makeData,\n        build:          build,\n        chart:          function() { return charts[0] },\n        group:          function() { return elementGroup },\n        fields: {\n          x:            ['FalsePositiveRate'],\n          y:            ['TruePositiveRate']\n        }\n      };\n    }();\n\n    function build(time, noData) {\n      var first = elements[0].data() == null;\n      if (first) time = 0;                                           // no transition for first call\n      buildAxes(time);\n      if ((first || time > -1) && !noData) {\n        elements[0].makeData();\n      }\n      elements[0].build(time);\n    }\n\n    // Expose the following components of the chart\n    return {\n      elements : elements,\n      interior : interior,\n      scales: {x:scale_x, y:scale_y},\n      zoom: function(params, time) {\n          if (params) zoom.on('zoom').call(zoomNode, params, time);\n          return d3.zoomTransform(zoomNode);\n      },\n      build : build\n    };\n    }();\n\n  function setData(rowData, i) { datasets[i||0] = BrunelD3.makeData(rowData) }\n  function updateAll(time) { charts.forEach(function(x) {x.build(time || 0)}) }\n  function buildAll() {\n    for (var i=0;i<arguments.length;i++) setData(arguments[i], i);\n    updateAll(transitionTime);\n  }\n\n  return {\n    dataPreProcess:     function(f) { if (f) pre = f; return pre },\n    dataPostProcess:    function(f) { if (f) post = f; return post },\n    data:               function(d,i) { if (d) setData(d,i); return datasets[i||0] },\n    visId:              visId,\n    build:              buildAll,\n    rebuild:            updateAll,\n    charts:             charts\n  }\n}\n\n// Data Tables /////////////////////////////////////////////////////////////////////////////////////\n\nvar table1 = {\n   summarized: false,\n   names: ['FalsePositiveRate', 'TruePositiveRate'], \n   options: ['numeric', 'numeric'], \n   rows: [[1, 1], [1, 1], [0.5576369, 1], [0.4510086, 1], [0.3991354, 1], [0.3544669, 1],\n  [0.314121, 1], [0.2867435, 1], [0.2694524, 1], [0.2636888, 1], [0.2478386, 0.9906103],\n  [0.240634, 0.9906103], [0.2319885, 0.9859155], [0.2190202, 0.9859155], [0.2060519, 0.9859155],\n  [0.2017291, 0.9859155], [0.1902017, 0.9859155], [0.1786744, 0.9859155], [0.1772334, 0.9812207],\n  [0.1657061, 0.9812207], [0.1613833, 0.9812207], [0.1512968, 0.9765258], [0.1440922, 0.971831],\n  [0.1383285, 0.971831], [0.1325648, 0.971831], [0.1325648, 0.9671362], [0.1268012, 0.9671362],\n  [0.1239193, 0.9671362], [0.1224784, 0.9671362], [0.1167147, 0.9671362], [0.1123919, 0.9671362],\n  [0.110951, 0.9671362], [0.1066282, 0.9624413], [0.1037464, 0.9624413], [0.1008646, 0.9624413],\n  [0.0994236, 0.9624413], [0.0907781, 0.9483568], [0.0878963, 0.943662], [0.0835735, 0.9342723],\n  [0.0821326, 0.9342723], [0.0821326, 0.9342723], [0.0763689, 0.9342723], [0.073487, 0.9248826],\n  [0.0706052, 0.915493], [0.0691643, 0.915493], [0.0677233, 0.915493], [0.0677233, 0.9061033],\n  [0.0677233, 0.9014085], [0.0677233, 0.8967136], [0.0605187, 0.8967136], [0.0576369, 0.8826291],\n  [0.0576369, 0.8779343], [0.054755, 0.8732394], [0.054755, 0.8544601], [0.0533141, 0.8497653],\n  [0.0504323, 0.8450704], [0.0489914, 0.8356808], [0.0475504, 0.8356808], [0.0461095, 0.8215962],\n  [0.0461095, 0.8169014], [0.0446686, 0.8028169], [0.0417867, 0.7887324], [0.0417867, 0.7840376],\n  [0.0417867, 0.7746479], [0.0403458, 0.7699531], [0.0389049, 0.7558685], [0.0360231, 0.741784],\n  [0.0360231, 0.7323944], [0.0345821, 0.713615], [0.0345821, 0.7089202], [0.0317003, 0.7042254],\n  [0.0273775, 0.7042254], [0.0244957, 0.6948357], [0.0244957, 0.6619718], [0.018732, 0.6525822],\n  [0.0158501, 0.6431925], [0.0158501, 0.6384977], [0.0144092, 0.6197183], [0.0144092, 0.6103286],\n  [0.0129683, 0.5868545], [0.0129683, 0.5680751], [0.0100865, 0.5539906], [0.0086455, 0.5399061],\n  [0.0086455, 0.5164319], [0.0072046, 0.4929577], [0.0057637, 0.4694836], [0.0057637, 0.4553991],\n  [0.0028818, 0.4319249], [0.0028818, 0.4037559], [0.0028818, 0.3755869], [0.0014409, 0.342723],\n  [0.0014409, 0.2957746], [0.0014409, 0.258216], [0.0014409, 0.2253521], [0.0014409, 0.1877934],\n  [0.0014409, 0.1408451], [0, 0.1079812], [0, 0.0751174], [0, 0.0422535], [0, 0.0187793],\n  [0, 0.0046948], [0, 0], [0, 0]]\n};\n\n// Call Code to Build the system ///////////////////////////////////////////////////////////////////\n\nvar v  = new BrunelVis('visid14625914-c4eb-11e7-8cdc-002590fb6afc');\nv.build(table1);\n\n    });\n});", 
                        "text/plain": "<IPython.core.display.Javascript object>"
                    }, 
                    "output_type": "execute_result"
                }
            ], 
            "execution_count": 21, 
            "source": "import brunel\n%brunel data('rocDF') x(FalsePositiveRate) y(TruePositiveRate) line tooltip(#all) axes(x:'False Positive Rate':grid, y:'True Positive Rate':grid) title('ROC')"
        }, 
        {
            "metadata": {}, 
            "cell_type": "markdown", 
            "source": "\n\n\n## 3. Watson Machine Learning - Use Repository service to save model. ##\n-------------------------------------"
        }, 
        {
            "metadata": {}, 
            "cell_type": "markdown", 
            "source": "\n### 3.1 Set credentials to the Watson Machine Learning Deployments ##\n-------------------------------------\n<p>service_path = \"https://ibm-watson-ml.mybluemix.net\"<br>\ninstance_id = \"xxxx\"<br>\nusername = \"xxxx\"<br>\npassword = \"xxxx\"</p>"
        }, 
        {
            "metadata": {
                "collapsed": true
            }, 
            "cell_type": "code", 
            "outputs": [], 
            "execution_count": 24, 
            "source": "from repository.mlrepositoryclient import MLRepositoryClient\nfrom repository.mlrepositoryartifact import MLRepositoryArtifact\nfrom repository.mlrepository import MetaProps, MetaNames"
        }, 
        {
            "metadata": {
                "collapsed": true
            }, 
            "cell_type": "code", 
            "outputs": [], 
            "execution_count": 25, 
            "source": "# The code was removed by DSX for sharing."
        }, 
        {
            "metadata": {}, 
            "cell_type": "markdown", 
            "source": "<p>Secure a connection to the repository and add author information for model</p>"
        }, 
        {
            "metadata": {}, 
            "cell_type": "code", 
            "outputs": [], 
            "execution_count": 29, 
            "source": "ml_repository_client = MLRepositoryClient(service_path)\nml_repository_client.authorize(username, password)"
        }, 
        {
            "metadata": {}, 
            "cell_type": "code", 
            "outputs": [], 
            "execution_count": null, 
            "source": "model_artifact = MLRepositoryArtifact(model, training_data=trainDF, name=\"Credit Card Churn Model\")\n\nsaved_model = ml_repository_client.models.save(model_artifact)\n\nprint saved_model.meta.available_props()\nprint\nprint \"modelType: \" + saved_model.meta.prop(\"modelType\")\nprint \"trainingDataSchema: \" + str(saved_model.meta.prop(\"trainingDataSchema\"))\nprint \"creationTime: \" + str(saved_model.meta.prop(\"creationTime\"))\nprint \"modelVersionHref: \" + saved_model.meta.prop(\"modelVersionHref\")\nprint \"label: \" + saved_model.meta.prop(\"label\")"
        }, 
        {
            "metadata": {}, 
            "cell_type": "markdown", 
            "source": "<div class=\"alert alert-block alert-info\"> Tip: modelVersionHref is our model unique indentifier in the Watson Machine Learning repository.</div> "
        }, 
        {
            "metadata": {
                "collapsed": true
            }, 
            "cell_type": "code", 
            "outputs": [], 
            "execution_count": 27, 
            "source": "saved_model = ml_repository_client.models.save(model_artifact)"
        }, 
        {
            "metadata": {}, 
            "cell_type": "markdown", 
            "source": "<p>Get saved model metadata from Watson Machine Learning.</p>"
        }, 
        {
            "metadata": {}, 
            "cell_type": "code", 
            "outputs": [
                {
                    "metadata": {}, 
                    "execution_count": 28, 
                    "data": {
                        "text/plain": "['inputDataSchema',\n 'evaluationMetrics',\n 'pipelineVersionHref',\n 'modelVersionHref',\n 'trainingDataRef',\n 'pipelineType',\n 'creationTime',\n 'lastUpdated',\n 'label',\n 'authorEmail',\n 'trainingDataSchema',\n 'authorName',\n 'version',\n 'modelType',\n 'runtime',\n 'evaluationMethod']"
                    }, 
                    "output_type": "execute_result"
                }
            ], 
            "execution_count": 28, 
            "source": "saved_model.meta.available_props()"
        }, 
        {
            "metadata": {}, 
            "cell_type": "markdown", 
            "source": "\n\n\n### 3.2 Load model and make predictions ##\n-------------------------------------"
        }, 
        {
            "metadata": {
                "collapsed": true
            }, 
            "cell_type": "code", 
            "outputs": [], 
            "execution_count": 29, 
            "source": "loadedModelArtifact = ml_repository_client.models.get(saved_model.uid)"
        }, 
        {
            "metadata": {}, 
            "cell_type": "code", 
            "outputs": [
                {
                    "output_type": "stream", 
                    "text": "Credit Card Churn Model\ne8c6bd36-6635-401e-a5f1-f40d9ad111af\n", 
                    "name": "stdout"
                }
            ], 
            "execution_count": 30, 
            "source": "print(loadedModelArtifact.name)\nprint(saved_model.uid)"
        }, 
        {
            "metadata": {
                "collapsed": true
            }, 
            "cell_type": "code", 
            "outputs": [], 
            "execution_count": 32, 
            "source": "predictions = loadedModelArtifact.model_instance().transform(validateDF)\n"
        }, 
        {
            "metadata": {}, 
            "cell_type": "code", 
            "outputs": [
                {
                    "output_type": "stream", 
                    "text": "+---+--------+---------+---+-----+---------+------+-----+\n|AGE|ACTIVITY|EDUCATION|SEX|STATE|NEGTWEETS|INCOME|CHURN|\n+---+--------+---------+---+-----+---------+------+-----+\n| 57|       1|        2|  M|   ID|       13| 22438|    1|\n| 41|       2|        4|  M|   KS|        4| 17312|    0|\n| 53|       3|        4|  F|   ID|       10| 25854|    0|\n| 66|       4|        1|  M|   VA|        3| 19061|    0|\n| 35|       0|        2|  F|   MI|       11| 20414|    1|\n| 70|       1|        1|  F|   NY|        4| 13770|    0|\n| 73|       1|        2|  F|   OR|        5|114646|    1|\n| 27|       1|        4|  F|   WV|        3| 17830|    0|\n| 42|       4|        4|  F|   IN|        4| 45292|    0|\n| 27|       3|        2|  M|   WV|        2| 95416|    0|\n| 38|       2|        4|  F|   FL|       10| 21987|    0|\n| 75|       0|        1|  M|   MD|       10| 19014|    0|\n| 68|       0|        1|  F|   AR|       10| 13616|    0|\n| 64|       2|        1|  F|   DE|        3| 14679|    0|\n| 30|       2|        1|  M|   PA|       10| 17246|    1|\n| 64|       2|        4|  M|   AZ|       10| 20591|    0|\n| 85|       2|        1|  F|   AK|       10| 18525|    0|\n| 28|       4|        1|  M|   OR|       10| 22912|    1|\n| 35|       1|        4|  F|   CA|       10| 15729|    1|\n| 45|       5|        3|  F|   WA|        3|208174|    0|\n+---+--------+---------+---+-----+---------+------+-----+\nonly showing top 20 rows\n\n", 
                    "name": "stdout"
                }
            ], 
            "execution_count": 34, 
            "source": "predictions.select(\"AGE\",\"ACTIVITY\",\"EDUCATION\",\"SEX\",\"STATE\",\"NEGTWEETS\",\"INCOME\",\"CHURN\").show()\n"
        }, 
        {
            "metadata": {}, 
            "cell_type": "markdown", 
            "source": "\n<p>Generate an access token to work with the Watson Machine Learning API</p>"
        }, 
        {
            "metadata": {
                "collapsed": true
            }, 
            "cell_type": "code", 
            "outputs": [], 
            "execution_count": 38, 
            "source": "import urllib3, requests, json\n\nheaders = urllib3.util.make_headers(basic_auth='{}:{}'.format(username, password))\nurl = '{}/v3/identity/token'.format(service_path)\nresponse = requests.get(url, headers=headers)\nwmltoken = 'Bearer ' + json.loads(response.text).get('token')"
        }, 
        {
            "metadata": {}, 
            "cell_type": "markdown", 
            "source": "\n\n\n### 3.3 Get a WML response instance from Watson Machine Learning API ##\n-------------------------------------"
        }, 
        {
            "metadata": {}, 
            "cell_type": "code", 
            "outputs": [
                {
                    "output_type": "stream", 
                    "text": "<Response [200]>\n{\"metadata\":{\"guid\":\"ac911531-f2b4-448d-8a97-e62041d451ee\",\"url\":\"https://ibm-watson-ml.mybluemix.net/v3/wml_instances/ac911531-f2b4-448d-8a97-e62041d451ee\",\"created_at\":\"2017-08-02T17:29:49.584Z\",\"modified_at\":\"2017-10-18T20:52:25.568Z\"},\"entity\":{\"source\":\"Bluemix\",\"published_models\":{\"url\":\"https://ibm-watson-ml.mybluemix.net/v3/wml_instances/ac911531-f2b4-448d-8a97-e62041d451ee/published_models\"},\"usage\":{\"expiration_date\":\"2017-11-01T00:00:00.000Z\",\"computation_time\":{\"limit\":18000,\"current\":0},\"model_count\":{\"limit\":200,\"current\":1},\"prediction_count\":{\"limit\":5000,\"current\":0},\"deployment_count\":{\"limit\":5,\"current\":-1}},\"plan_id\":\"3f6acf43-ede8-413a-ac69-f8af3bb0cbfe\",\"status\":\"Active\",\"organization_guid\":\"17fcb73f-f48a-461d-bc35-3be8ff80d7ca\",\"region\":\"us-south\",\"account\":{\"id\":\"ef1045312d844c056ae7045756aafc47\",\"name\":\"IBM\",\"type\":\"PAYG\"},\"owner\":{\"user_id\":\"756ddd32-7fa8-4fba-a7c5-b25949939ac4\",\"email\":\"natop@us.ibm.com\",\"country_code\":\"USA\",\"beta_user\":true},\"deployments\":{\"url\":\"https://ibm-watson-ml.mybluemix.net/v3/wml_instances/ac911531-f2b4-448d-8a97-e62041d451ee/deployments\"},\"space_guid\":\"346176c1-1449-4755-a30d-e86822c62375\",\"plan\":\"free\"}}\n", 
                    "name": "stdout"
                }
            ], 
            "execution_count": 39, 
            "source": "endpoint_instance = service_path + \"/v3/wml_instances/\" + instance_id\nheader = {'Content-Type': 'application/json', 'Authorization': wmltoken}\n\nresponse_get_instance = requests.get(endpoint_instance, headers=header)\nprint response_get_instance\nprint response_get_instance.text"
        }, 
        {
            "metadata": {}, 
            "cell_type": "markdown", 
            "source": "\n<p>Find the deployed Models and create an access url</p>"
        }, 
        {
            "metadata": {}, 
            "cell_type": "code", 
            "outputs": [
                {
                    "output_type": "stream", 
                    "text": "https://ibm-watson-ml.mybluemix.net/v3/wml_instances/ac911531-f2b4-448d-8a97-e62041d451ee/published_models\n", 
                    "name": "stdout"
                }
            ], 
            "execution_count": 40, 
            "source": "endpoint_published_models = json.loads(response_get_instance.text).get('entity').get('published_models').get('url')\nprint endpoint_published_models\n"
        }, 
        {
            "metadata": {}, 
            "cell_type": "markdown", 
            "source": "<p>Get a list of the published wml models</p>"
        }, 
        {
            "metadata": {}, 
            "cell_type": "code", 
            "outputs": [
                {
                    "output_type": "stream", 
                    "text": "<Response [200]>\n{\"count\":5,\"resources\":[{\"metadata\":{\"guid\":\"505c71c7-9a78-4f04-970c-f25c2afe1a6f\",\"url\":\"https://ibm-watson-ml.mybluemix.net/v3/wml_instances/ac911531-f2b4-448d-8a97-e62041d451ee/published_models/505c71c7-9a78-4f04-970c-f25c2afe1a6f\",\"created_at\":\"2017-10-18T19:48:48.993Z\",\"modified_at\":\"2017-10-18T19:48:49.243Z\"},\"entity\":{\"runtime_environment\":\"spark-2.0\",\"author\":{},\"name\":\"Credit Card Churn Model\",\"label_col\":\"CHURN\",\"training_data_schema\":{\"fields\":[{\"metadata\":{},\"type\":\"integer\",\"name\":\"CUST_ID\",\"nullable\":true},{\"metadata\":{},\"type\":\"string\",\"name\":\"SEX\",\"nullable\":true},{\"metadata\":{},\"type\":\"integer\",\"name\":\"AGE\",\"nullable\":true},{\"metadata\":{},\"type\":\"integer\",\"name\":\"EDUCATION\",\"nullable\":true},{\"metadata\":{},\"type\":\"integer\",\"name\":\"INVESTMENT\",\"nullable\":true},{\"metadata\":{},\"type\":\"integer\",\"name\":\"INCOME\",\"nullable\":true},{\"metadata\":{},\"type\":\"integer\",\"name\":\"ACTIVITY\",\"nullable\":true},{\"metadata\":{},\"type\":\"integer\",\"name\":\"CHURN\",\"nullable\":true},{\"metadata\":{},\"type\":\"double\",\"name\":\"YRLY_AMT\",\"nullable\":true},{\"metadata\":{},\"type\":\"double\",\"name\":\"AVG_DAILY_TX\",\"nullable\":true},{\"metadata\":{},\"type\":\"integer\",\"name\":\"YRLY_TX\",\"nullable\":true},{\"metadata\":{},\"type\":\"double\",\"name\":\"AVG_TX_AMT\",\"nullable\":true},{\"metadata\":{},\"type\":\"integer\",\"name\":\"NEGTWEETS\",\"nullable\":true},{\"metadata\":{},\"type\":\"string\",\"name\":\"STATE\",\"nullable\":true},{\"metadata\":{},\"type\":\"string\",\"name\":\"EDUCATION_GROUP\",\"nullable\":true},{\"metadata\":{},\"type\":\"long\",\"name\":\"TwitterID\",\"nullable\":true},{\"metadata\":{},\"type\":\"boolean\",\"name\":\"CHURN_LABEL\",\"nullable\":true},{\"metadata\":{},\"type\":\"timestamp\",\"name\":\"INSERT_TIME\",\"nullable\":true}],\"type\":\"struct\"},\"latest_version\":{\"url\":\"https://ibm-watson-ml.mybluemix.net/v2/artifacts/models/505c71c7-9a78-4f04-970c-f25c2afe1a6f/versions/c1540b6f-50d7-4fc0-930b-a3c886ccf419\",\"guid\":\"c1540b6f-50d7-4fc0-930b-a3c886ccf419\",\"created_at\":\"2017-10-18T19:48:49.243Z\"},\"model_type\":\"sparkml-model-2.0\",\"deployments\":{\"count\":0,\"url\":\"https://ibm-watson-ml.mybluemix.net/v3/wml_instances/ac911531-f2b4-448d-8a97-e62041d451ee/published_models/505c71c7-9a78-4f04-970c-f25c2afe1a6f/deployments\"},\"input_data_schema\":{\"fields\":[{\"metadata\":{},\"type\":\"integer\",\"name\":\"CUST_ID\",\"nullable\":true},{\"metadata\":{},\"type\":\"string\",\"name\":\"SEX\",\"nullable\":true},{\"metadata\":{},\"type\":\"integer\",\"name\":\"AGE\",\"nullable\":true},{\"metadata\":{},\"type\":\"integer\",\"name\":\"EDUCATION\",\"nullable\":true},{\"metadata\":{},\"type\":\"integer\",\"name\":\"INVESTMENT\",\"nullable\":true},{\"metadata\":{},\"type\":\"integer\",\"name\":\"INCOME\",\"nullable\":true},{\"metadata\":{},\"type\":\"integer\",\"name\":\"ACTIVITY\",\"nullable\":true},{\"metadata\":{},\"type\":\"double\",\"name\":\"YRLY_AMT\",\"nullable\":true},{\"metadata\":{},\"type\":\"double\",\"name\":\"AVG_DAILY_TX\",\"nullable\":true},{\"metadata\":{},\"type\":\"integer\",\"name\":\"YRLY_TX\",\"nullable\":true},{\"metadata\":{},\"type\":\"double\",\"name\":\"AVG_TX_AMT\",\"nullable\":true},{\"metadata\":{},\"type\":\"integer\",\"name\":\"NEGTWEETS\",\"nullable\":true},{\"metadata\":{},\"type\":\"string\",\"name\":\"STATE\",\"nullable\":true},{\"metadata\":{},\"type\":\"string\",\"name\":\"EDUCATION_GROUP\",\"nullable\":true},{\"metadata\":{},\"type\":\"long\",\"name\":\"TwitterID\",\"nullable\":true},{\"metadata\":{},\"type\":\"boolean\",\"name\":\"CHURN_LABEL\",\"nullable\":true},{\"metadata\":{},\"type\":\"timestamp\",\"name\":\"INSERT_TIME\",\"nullable\":true}],\"type\":\"struct\"}}},{\"metadata\":{\"guid\":\"708734a8-f419-4465-aa16-31909eba7210\",\"url\":\"https://ibm-watson-ml.mybluemix.net/v3/wml_instances/ac911531-f2b4-448d-8a97-e62041d451ee/published_models/708734a8-f419-4465-aa16-31909eba7210\",\"created_at\":\"2017-10-18T19:48:06.512Z\",\"modified_at\":\"2017-10-18T19:48:06.697Z\"},\"entity\":{\"runtime_environment\":\"spark-2.0\",\"author\":{},\"name\":\"Credit Card Churn Model\",\"label_col\":\"CHURN\",\"training_data_schema\":{\"fields\":[{\"metadata\":{},\"type\":\"integer\",\"name\":\"CUST_ID\",\"nullable\":true},{\"metadata\":{},\"type\":\"string\",\"name\":\"SEX\",\"nullable\":true},{\"metadata\":{},\"type\":\"integer\",\"name\":\"AGE\",\"nullable\":true},{\"metadata\":{},\"type\":\"integer\",\"name\":\"EDUCATION\",\"nullable\":true},{\"metadata\":{},\"type\":\"integer\",\"name\":\"INVESTMENT\",\"nullable\":true},{\"metadata\":{},\"type\":\"integer\",\"name\":\"INCOME\",\"nullable\":true},{\"metadata\":{},\"type\":\"integer\",\"name\":\"ACTIVITY\",\"nullable\":true},{\"metadata\":{},\"type\":\"integer\",\"name\":\"CHURN\",\"nullable\":true},{\"metadata\":{},\"type\":\"double\",\"name\":\"YRLY_AMT\",\"nullable\":true},{\"metadata\":{},\"type\":\"double\",\"name\":\"AVG_DAILY_TX\",\"nullable\":true},{\"metadata\":{},\"type\":\"integer\",\"name\":\"YRLY_TX\",\"nullable\":true},{\"metadata\":{},\"type\":\"double\",\"name\":\"AVG_TX_AMT\",\"nullable\":true},{\"metadata\":{},\"type\":\"integer\",\"name\":\"NEGTWEETS\",\"nullable\":true},{\"metadata\":{},\"type\":\"string\",\"name\":\"STATE\",\"nullable\":true},{\"metadata\":{},\"type\":\"string\",\"name\":\"EDUCATION_GROUP\",\"nullable\":true},{\"metadata\":{},\"type\":\"long\",\"name\":\"TwitterID\",\"nullable\":true},{\"metadata\":{},\"type\":\"boolean\",\"name\":\"CHURN_LABEL\",\"nullable\":true},{\"metadata\":{},\"type\":\"timestamp\",\"name\":\"INSERT_TIME\",\"nullable\":true}],\"type\":\"struct\"},\"latest_version\":{\"url\":\"https://ibm-watson-ml.mybluemix.net/v2/artifacts/models/708734a8-f419-4465-aa16-31909eba7210/versions/30d7931d-355b-457d-8750-0b486739777c\",\"guid\":\"30d7931d-355b-457d-8750-0b486739777c\",\"created_at\":\"2017-10-18T19:48:06.697Z\"},\"model_type\":\"sparkml-model-2.0\",\"deployments\":{\"count\":0,\"url\":\"https://ibm-watson-ml.mybluemix.net/v3/wml_instances/ac911531-f2b4-448d-8a97-e62041d451ee/published_models/708734a8-f419-4465-aa16-31909eba7210/deployments\"},\"input_data_schema\":{\"fields\":[{\"metadata\":{},\"type\":\"integer\",\"name\":\"CUST_ID\",\"nullable\":true},{\"metadata\":{},\"type\":\"string\",\"name\":\"SEX\",\"nullable\":true},{\"metadata\":{},\"type\":\"integer\",\"name\":\"AGE\",\"nullable\":true},{\"metadata\":{},\"type\":\"integer\",\"name\":\"EDUCATION\",\"nullable\":true},{\"metadata\":{},\"type\":\"integer\",\"name\":\"INVESTMENT\",\"nullable\":true},{\"metadata\":{},\"type\":\"integer\",\"name\":\"INCOME\",\"nullable\":true},{\"metadata\":{},\"type\":\"integer\",\"name\":\"ACTIVITY\",\"nullable\":true},{\"metadata\":{},\"type\":\"double\",\"name\":\"YRLY_AMT\",\"nullable\":true},{\"metadata\":{},\"type\":\"double\",\"name\":\"AVG_DAILY_TX\",\"nullable\":true},{\"metadata\":{},\"type\":\"integer\",\"name\":\"YRLY_TX\",\"nullable\":true},{\"metadata\":{},\"type\":\"double\",\"name\":\"AVG_TX_AMT\",\"nullable\":true},{\"metadata\":{},\"type\":\"integer\",\"name\":\"NEGTWEETS\",\"nullable\":true},{\"metadata\":{},\"type\":\"string\",\"name\":\"STATE\",\"nullable\":true},{\"metadata\":{},\"type\":\"string\",\"name\":\"EDUCATION_GROUP\",\"nullable\":true},{\"metadata\":{},\"type\":\"long\",\"name\":\"TwitterID\",\"nullable\":true},{\"metadata\":{},\"type\":\"boolean\",\"name\":\"CHURN_LABEL\",\"nullable\":true},{\"metadata\":{},\"type\":\"timestamp\",\"name\":\"INSERT_TIME\",\"nullable\":true}],\"type\":\"struct\"}}},{\"metadata\":{\"guid\":\"739058bb-1aec-4e8e-a148-f69ebb5860d4\",\"url\":\"https://ibm-watson-ml.mybluemix.net/v3/wml_instances/ac911531-f2b4-448d-8a97-e62041d451ee/published_models/739058bb-1aec-4e8e-a148-f69ebb5860d4\",\"created_at\":\"2017-09-21T10:58:56.646Z\",\"modified_at\":\"2017-09-21T11:00:13.764Z\"},\"entity\":{\"runtime_environment\":\"spark-2.0\",\"author\":{\"name\":\"DataScientist\"},\"name\":\"Credit Card Churn Model\",\"label_col\":\"label\",\"training_data_schema\":{\"type\":\"struct\",\"fields\":[{\"name\":\"AGE\",\"type\":\"integer\",\"nullable\":true,\"metadata\":{}},{\"name\":\"ACTIVITY\",\"type\":\"integer\",\"nullable\":true,\"metadata\":{}},{\"name\":\"EDUCATION\",\"type\":\"integer\",\"nullable\":true,\"metadata\":{}},{\"name\":\"SEX\",\"type\":\"string\",\"nullable\":true,\"metadata\":{}},{\"name\":\"STATE\",\"type\":\"string\",\"nullable\":true,\"metadata\":{}},{\"name\":\"NEGTWEETS\",\"type\":\"integer\",\"nullable\":true,\"metadata\":{}},{\"name\":\"INCOME\",\"type\":\"integer\",\"nullable\":true,\"metadata\":{}},{\"name\":\"label\",\"type\":\"double\",\"nullable\":true,\"metadata\":{}}]},\"latest_version\":{\"url\":\"https://ibm-watson-ml.mybluemix.net/v2/artifacts/models/739058bb-1aec-4e8e-a148-f69ebb5860d4/versions/4c0e5dfb-7782-467b-ae02-e6eef69e1c3c\",\"guid\":\"4c0e5dfb-7782-467b-ae02-e6eef69e1c3c\",\"created_at\":\"2017-09-21T10:58:56.907Z\"},\"model_type\":\"sparkml-model-2.0\",\"deployments\":{\"count\":1,\"url\":\"https://ibm-watson-ml.mybluemix.net/v3/wml_instances/ac911531-f2b4-448d-8a97-e62041d451ee/published_models/739058bb-1aec-4e8e-a148-f69ebb5860d4/deployments\"},\"deployed_version\":{\"url\":\"https://ibm-watson-ml.mybluemix.net/v2/artifacts/models/739058bb-1aec-4e8e-a148-f69ebb5860d4/versions/4c0e5dfb-7782-467b-ae02-e6eef69e1c3c\",\"guid\":\"4c0e5dfb-7782-467b-ae02-e6eef69e1c3c\",\"created_at\":\"2017-09-21T10:58:56.907Z\"},\"input_data_schema\":{\"type\":\"struct\",\"fields\":[{\"name\":\"AGE\",\"type\":\"integer\",\"nullable\":true,\"metadata\":{}},{\"name\":\"ACTIVITY\",\"type\":\"integer\",\"nullable\":true,\"metadata\":{}},{\"name\":\"EDUCATION\",\"type\":\"integer\",\"nullable\":true,\"metadata\":{}},{\"name\":\"SEX\",\"type\":\"string\",\"nullable\":true,\"metadata\":{}},{\"name\":\"STATE\",\"type\":\"string\",\"nullable\":true,\"metadata\":{}},{\"name\":\"NEGTWEETS\",\"type\":\"integer\",\"nullable\":true,\"metadata\":{}},{\"name\":\"INCOME\",\"type\":\"integer\",\"nullable\":true,\"metadata\":{}}]}}},{\"metadata\":{\"guid\":\"d96cfbf0-5e5d-4993-ba47-ec9282ce5d22\",\"url\":\"https://ibm-watson-ml.mybluemix.net/v3/wml_instances/ac911531-f2b4-448d-8a97-e62041d451ee/published_models/d96cfbf0-5e5d-4993-ba47-ec9282ce5d22\",\"created_at\":\"2017-10-18T20:52:14.127Z\",\"modified_at\":\"2017-10-18T20:52:14.254Z\"},\"entity\":{\"runtime_environment\":\"spark-2.1\",\"author\":{},\"name\":\"Credit Card Churn Model\",\"label_col\":\"CHURN\",\"training_data_schema\":{\"fields\":[{\"metadata\":{},\"type\":\"integer\",\"name\":\"CUST_ID\",\"nullable\":true},{\"metadata\":{},\"type\":\"string\",\"name\":\"SEX\",\"nullable\":true},{\"metadata\":{},\"type\":\"integer\",\"name\":\"AGE\",\"nullable\":true},{\"metadata\":{},\"type\":\"integer\",\"name\":\"EDUCATION\",\"nullable\":true},{\"metadata\":{},\"type\":\"integer\",\"name\":\"INVESTMENT\",\"nullable\":true},{\"metadata\":{},\"type\":\"integer\",\"name\":\"INCOME\",\"nullable\":true},{\"metadata\":{},\"type\":\"integer\",\"name\":\"ACTIVITY\",\"nullable\":true},{\"metadata\":{},\"type\":\"integer\",\"name\":\"CHURN\",\"nullable\":true},{\"metadata\":{},\"type\":\"double\",\"name\":\"YRLY_AMT\",\"nullable\":true},{\"metadata\":{},\"type\":\"double\",\"name\":\"AVG_DAILY_TX\",\"nullable\":true},{\"metadata\":{},\"type\":\"integer\",\"name\":\"YRLY_TX\",\"nullable\":true},{\"metadata\":{},\"type\":\"double\",\"name\":\"AVG_TX_AMT\",\"nullable\":true},{\"metadata\":{},\"type\":\"integer\",\"name\":\"NEGTWEETS\",\"nullable\":true},{\"metadata\":{},\"type\":\"string\",\"name\":\"STATE\",\"nullable\":true},{\"metadata\":{},\"type\":\"string\",\"name\":\"EDUCATION_GROUP\",\"nullable\":true},{\"metadata\":{},\"type\":\"long\",\"name\":\"TwitterID\",\"nullable\":true},{\"metadata\":{},\"type\":\"boolean\",\"name\":\"CHURN_LABEL\",\"nullable\":true},{\"metadata\":{},\"type\":\"timestamp\",\"name\":\"INSERT_TIME\",\"nullable\":true}],\"type\":\"struct\"},\"latest_version\":{\"url\":\"https://ibm-watson-ml.mybluemix.net/v2/artifacts/models/d96cfbf0-5e5d-4993-ba47-ec9282ce5d22/versions/8d31b2a5-f768-4d10-8f15-7b5c6ee1c7b3\",\"guid\":\"8d31b2a5-f768-4d10-8f15-7b5c6ee1c7b3\",\"created_at\":\"2017-10-18T20:52:14.254Z\"},\"model_type\":\"sparkml-model-2.1\",\"deployments\":{\"count\":0,\"url\":\"https://ibm-watson-ml.mybluemix.net/v3/wml_instances/ac911531-f2b4-448d-8a97-e62041d451ee/published_models/d96cfbf0-5e5d-4993-ba47-ec9282ce5d22/deployments\"},\"input_data_schema\":{\"fields\":[{\"metadata\":{},\"type\":\"integer\",\"name\":\"CUST_ID\",\"nullable\":true},{\"metadata\":{},\"type\":\"string\",\"name\":\"SEX\",\"nullable\":true},{\"metadata\":{},\"type\":\"integer\",\"name\":\"AGE\",\"nullable\":true},{\"metadata\":{},\"type\":\"integer\",\"name\":\"EDUCATION\",\"nullable\":true},{\"metadata\":{},\"type\":\"integer\",\"name\":\"INVESTMENT\",\"nullable\":true},{\"metadata\":{},\"type\":\"integer\",\"name\":\"INCOME\",\"nullable\":true},{\"metadata\":{},\"type\":\"integer\",\"name\":\"ACTIVITY\",\"nullable\":true},{\"metadata\":{},\"type\":\"double\",\"name\":\"YRLY_AMT\",\"nullable\":true},{\"metadata\":{},\"type\":\"double\",\"name\":\"AVG_DAILY_TX\",\"nullable\":true},{\"metadata\":{},\"type\":\"integer\",\"name\":\"YRLY_TX\",\"nullable\":true},{\"metadata\":{},\"type\":\"double\",\"name\":\"AVG_TX_AMT\",\"nullable\":true},{\"metadata\":{},\"type\":\"integer\",\"name\":\"NEGTWEETS\",\"nullable\":true},{\"metadata\":{},\"type\":\"string\",\"name\":\"STATE\",\"nullable\":true},{\"metadata\":{},\"type\":\"string\",\"name\":\"EDUCATION_GROUP\",\"nullable\":true},{\"metadata\":{},\"type\":\"long\",\"name\":\"TwitterID\",\"nullable\":true},{\"metadata\":{},\"type\":\"boolean\",\"name\":\"CHURN_LABEL\",\"nullable\":true},{\"metadata\":{},\"type\":\"timestamp\",\"name\":\"INSERT_TIME\",\"nullable\":true}],\"type\":\"struct\"}}},{\"metadata\":{\"guid\":\"e8c6bd36-6635-401e-a5f1-f40d9ad111af\",\"url\":\"https://ibm-watson-ml.mybluemix.net/v3/wml_instances/ac911531-f2b4-448d-8a97-e62041d451ee/published_models/e8c6bd36-6635-401e-a5f1-f40d9ad111af\",\"created_at\":\"2017-10-18T20:52:25.513Z\",\"modified_at\":\"2017-10-18T20:52:25.688Z\"},\"entity\":{\"runtime_environment\":\"spark-2.1\",\"author\":{},\"name\":\"Credit Card Churn Model\",\"label_col\":\"CHURN\",\"training_data_schema\":{\"fields\":[{\"metadata\":{},\"type\":\"integer\",\"name\":\"CUST_ID\",\"nullable\":true},{\"metadata\":{},\"type\":\"string\",\"name\":\"SEX\",\"nullable\":true},{\"metadata\":{},\"type\":\"integer\",\"name\":\"AGE\",\"nullable\":true},{\"metadata\":{},\"type\":\"integer\",\"name\":\"EDUCATION\",\"nullable\":true},{\"metadata\":{},\"type\":\"integer\",\"name\":\"INVESTMENT\",\"nullable\":true},{\"metadata\":{},\"type\":\"integer\",\"name\":\"INCOME\",\"nullable\":true},{\"metadata\":{},\"type\":\"integer\",\"name\":\"ACTIVITY\",\"nullable\":true},{\"metadata\":{},\"type\":\"integer\",\"name\":\"CHURN\",\"nullable\":true},{\"metadata\":{},\"type\":\"double\",\"name\":\"YRLY_AMT\",\"nullable\":true},{\"metadata\":{},\"type\":\"double\",\"name\":\"AVG_DAILY_TX\",\"nullable\":true},{\"metadata\":{},\"type\":\"integer\",\"name\":\"YRLY_TX\",\"nullable\":true},{\"metadata\":{},\"type\":\"double\",\"name\":\"AVG_TX_AMT\",\"nullable\":true},{\"metadata\":{},\"type\":\"integer\",\"name\":\"NEGTWEETS\",\"nullable\":true},{\"metadata\":{},\"type\":\"string\",\"name\":\"STATE\",\"nullable\":true},{\"metadata\":{},\"type\":\"string\",\"name\":\"EDUCATION_GROUP\",\"nullable\":true},{\"metadata\":{},\"type\":\"long\",\"name\":\"TwitterID\",\"nullable\":true},{\"metadata\":{},\"type\":\"boolean\",\"name\":\"CHURN_LABEL\",\"nullable\":true},{\"metadata\":{},\"type\":\"timestamp\",\"name\":\"INSERT_TIME\",\"nullable\":true}],\"type\":\"struct\"},\"latest_version\":{\"url\":\"https://ibm-watson-ml.mybluemix.net/v2/artifacts/models/e8c6bd36-6635-401e-a5f1-f40d9ad111af/versions/72116eaa-abaf-4512-b398-93f35241b8a0\",\"guid\":\"72116eaa-abaf-4512-b398-93f35241b8a0\",\"created_at\":\"2017-10-18T20:52:25.688Z\"},\"model_type\":\"sparkml-model-2.1\",\"deployments\":{\"count\":0,\"url\":\"https://ibm-watson-ml.mybluemix.net/v3/wml_instances/ac911531-f2b4-448d-8a97-e62041d451ee/published_models/e8c6bd36-6635-401e-a5f1-f40d9ad111af/deployments\"},\"input_data_schema\":{\"fields\":[{\"metadata\":{},\"type\":\"integer\",\"name\":\"CUST_ID\",\"nullable\":true},{\"metadata\":{},\"type\":\"string\",\"name\":\"SEX\",\"nullable\":true},{\"metadata\":{},\"type\":\"integer\",\"name\":\"AGE\",\"nullable\":true},{\"metadata\":{},\"type\":\"integer\",\"name\":\"EDUCATION\",\"nullable\":true},{\"metadata\":{},\"type\":\"integer\",\"name\":\"INVESTMENT\",\"nullable\":true},{\"metadata\":{},\"type\":\"integer\",\"name\":\"INCOME\",\"nullable\":true},{\"metadata\":{},\"type\":\"integer\",\"name\":\"ACTIVITY\",\"nullable\":true},{\"metadata\":{},\"type\":\"double\",\"name\":\"YRLY_AMT\",\"nullable\":true},{\"metadata\":{},\"type\":\"double\",\"name\":\"AVG_DAILY_TX\",\"nullable\":true},{\"metadata\":{},\"type\":\"integer\",\"name\":\"YRLY_TX\",\"nullable\":true},{\"metadata\":{},\"type\":\"double\",\"name\":\"AVG_TX_AMT\",\"nullable\":true},{\"metadata\":{},\"type\":\"integer\",\"name\":\"NEGTWEETS\",\"nullable\":true},{\"metadata\":{},\"type\":\"string\",\"name\":\"STATE\",\"nullable\":true},{\"metadata\":{},\"type\":\"string\",\"name\":\"EDUCATION_GROUP\",\"nullable\":true},{\"metadata\":{},\"type\":\"long\",\"name\":\"TwitterID\",\"nullable\":true},{\"metadata\":{},\"type\":\"boolean\",\"name\":\"CHURN_LABEL\",\"nullable\":true},{\"metadata\":{},\"type\":\"timestamp\",\"name\":\"INSERT_TIME\",\"nullable\":true}],\"type\":\"struct\"}}}]}\n", 
                    "name": "stdout"
                }
            ], 
            "execution_count": 42, 
            "source": "header = {'Content-Type': 'application/json', 'Authorization': wmltoken}\n\nresponse_get = requests.get(endpoint_published_models, headers=header)\nprint response_get\nprint response_get.text"
        }, 
        {
            "metadata": {}, 
            "cell_type": "markdown", 
            "source": "<p>Get the published model deployment URL</p>"
        }, 
        {
            "metadata": {
                "collapsed": true
            }, 
            "cell_type": "code", 
            "outputs": [], 
            "execution_count": null, 
            "source": "[endpoint_deployments] = [x.get('entity').get('deployments').get('url') for x in json.loads(response_get.text).get('resources') if x.get('metadata').get('guid') == saved_model.uid]\n\nprint endpoint_deployments"
        }, 
        {
            "metadata": {}, 
            "cell_type": "markdown", 
            "source": "\n\n\n### 3.4 Create an Online Deployment for the Model ##\n-------------------------------------"
        }, 
        {
            "metadata": {}, 
            "cell_type": "code", 
            "outputs": [
                {
                    "output_type": "stream", 
                    "text": "<Response [201]>\n{\"metadata\":{\"guid\":\"43671c6d-0e65-4a1e-aa4b-eacc99c789ee\",\"url\":\"https://ibm-watson-ml.mybluemix.net/v3/wml_instances/ac911531-f2b4-448d-8a97-e62041d451ee/published_models/e8c6bd36-6635-401e-a5f1-f40d9ad111af/deployments/43671c6d-0e65-4a1e-aa4b-eacc99c789ee\",\"created_at\":\"2017-10-18T21:03:32.792Z\",\"modified_at\":\"2017-10-18T21:03:34.213Z\"},\"entity\":{\"runtime_environment\":\"spark-2.1\",\"name\":\"Product Line Prediction\",\"scoring_url\":\"https://ibm-watson-ml.mybluemix.net/v3/wml_instances/ac911531-f2b4-448d-8a97-e62041d451ee/published_models/e8c6bd36-6635-401e-a5f1-f40d9ad111af/deployments/43671c6d-0e65-4a1e-aa4b-eacc99c789ee/online\",\"description\":\"My Cool Deployment\",\"published_model\":{\"author\":{},\"name\":\"Credit Card Churn Model\",\"url\":\"https://ibm-watson-ml.mybluemix.net/v3/wml_instances/ac911531-f2b4-448d-8a97-e62041d451ee/published_models/e8c6bd36-6635-401e-a5f1-f40d9ad111af\",\"guid\":\"e8c6bd36-6635-401e-a5f1-f40d9ad111af\",\"created_at\":\"2017-10-18T21:03:32.765Z\"},\"model_type\":\"sparkml-model-2.1\",\"status\":\"INITIALIZING\",\"type\":\"online\",\"deployed_version\":{\"url\":\"https://ibm-watson-ml.mybluemix.net/v2/artifacts/models/e8c6bd36-6635-401e-a5f1-f40d9ad111af/versions/72116eaa-abaf-4512-b398-93f35241b8a0\",\"guid\":\"72116eaa-abaf-4512-b398-93f35241b8a0\",\"created_at\":\"2017-10-18T20:52:25.688Z\"}}}\n", 
                    "name": "stdout"
                }
            ], 
            "execution_count": 45, 
            "source": "payload_online = {\"name\": \"Product Line Prediction\", \"description\": \"My Cool Deployment\", \"type\": \"online\"}\nresponse_online = requests.post(endpoint_deployments, json=payload_online, headers=header)\n\nprint response_online\nprint response_online.text"
        }, 
        {
            "metadata": {
                "collapsed": true
            }, 
            "cell_type": "code", 
            "outputs": [], 
            "execution_count": null, 
            "source": "scoring_url = json.loads(response_online.text).get('entity').get('scoring_url')\nprint scoring_url"
        }, 
        {
            "metadata": {}, 
            "cell_type": "markdown", 
            "source": "\n\n\n## 4. Create online scoring endpoint ##\n-------------------------------------"
        }, 
        {
            "metadata": {}, 
            "cell_type": "markdown", 
            "source": "<p>Create the playload_scoring json for the model</p>"
        }, 
        {
            "metadata": {}, 
            "cell_type": "code", 
            "outputs": [
                {
                    "output_type": "stream", 
                    "text": "{'fields': ['AGE', 'ACTIVITY', 'EDUCATION', 'SEX', 'STATE', 'NEGTWEETS', 'INCOME', 'CHURN'], 'values': [[41, 1, 4, 'M', 'TX', 4, 200000, 0]]}\n", 
                    "name": "stdout"
                }
            ], 
            "execution_count": 51, 
            "source": "payload_scoring = {\"fields\": [\"AGE\",\"ACTIVITY\",\"EDUCATION\",\"SEX\",\"STATE\",\"NEGTWEETS\",\"INCOME\",\"CHURN\"],\"values\": [[41,1,4,\"M\",\"TX\",4,200000,0]]}\n\nprint payload_scoring"
        }, 
        {
            "metadata": {}, 
            "cell_type": "code", 
            "outputs": [
                {
                    "output_type": "stream", 
                    "text": "{\n  \"fields\": [\"AGE\", \"ACTIVITY\", \"EDUCATION\", \"SEX\", \"STATE\", \"NEGTWEETS\", \"INCOME\", \"CHURN\", \"gender_code\", \"state_code\", \"features\", \"rawPrediction\", \"probability\", \"prediction\"],\n  \"values\": [[41, 1, 4, \"M\", \"TX\", 4, 200000, 0, 0.0, 14.0, [41.0, 1.0, 4.0, 4.0, 200000.0, 0.0, 14.0], [1.9272283528574985, -1.9272283528574985], [0.8729423229726789, 0.12705767702732115], 0.0]]\n}\n", 
                    "name": "stdout"
                }
            ], 
            "execution_count": 50, 
            "source": "response_scoring = requests.post(scoring_url, json=payload_scoring, headers=header)\n\nprint response_scoring.text"
        }
    ], 
    "nbformat": 4, 
    "nbformat_minor": 1
}